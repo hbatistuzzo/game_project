{
 "cells": [
  {
   "cell_type": "markdown",
   "id": "06615b6d",
   "metadata": {},
   "source": [
    "### Pseudo-código do jogo do Henrique: The fellowship goes to Isengard\n",
    "\n",
    "You are a hobbit, tasked with defeating the mage Saruman in his iron fortress of Isengard. He has a powerful weapon, however, the Palantir, which is sure to be your demise unless you gather some sort of help. Thankfully, you are part of a fellowship. Saruman can be defeated with the aid of your friend's weapons: Aragorn's Sword, Legolas' Bow and Gimli's Axe. All you need to do is ask!\n",
    "\n",
    "1) You start in Elrond's house in Rivendell. You have 4 choices of places to go, defined as a class Place.\n",
    "    1.1) going to Isengard\n",
    "    1.2) talking to Aragorn\n",
    "    1.3) talking to Legolas\n",
    "    1.4) talking to Gimli\n",
    "2) If you go to Isengard before talking to your friends, the Palantir will be your doom and it's game over.\n",
    "3) After talking to each one, and obtaining their weapons, you can safely travel to Isengard.\n",
    "4) Upon arriving on Isengard, you are ready to face your opponent. But.... The Palantir is too strong! You are all defeated. It's up to your party's mage, the Deus Ex Machina Gandalf, to take up arms against his nemesis.\n",
    "5) The game shamelessly plugs a modified version of ''Gandalf VS Saruman'' code, with random spells being chosen. Who will win?"
   ]
  },
  {
   "cell_type": "code",
   "execution_count": null,
   "id": "827ba89e",
   "metadata": {},
   "outputs": [],
   "source": [
    "#defines rooms and characters inside\n",
    "\n",
    "rooms = [[\"Initial room\"],[\"Aragorn's room\",\"Aragorn\"],[\"Legolas' room\",\"Legolas\"], [\"Gimli's Room\",\"Gimli],\n",
    "[\"Isengard\",\"Saruman\"]]\n",
    "             \n",
    "index = {\"Initial room\": 0,\n",
    "        \"Aragorn's room\": 1,\n",
    "        \"Legolas' room\": 2,\n",
    "        \"Gimli's room\": 3,\n",
    "        \"Isengard\": 4}\n",
    "\n",
    "doors = {\n",
    "\"Door A\" : [False,roomsname[0][0],roomsname[1][0]],\n",
    "\"Door B\" : [False,roomsname[1][0],roomsname[2][0]],\n",
    "\"Door C\" : [False,roomsname[1][0],roomsname[3][0]],\n",
    "\"Door D\" : [False,roomsname[3][0],roomsname[4][0]],\n",
    "}\n",
    "         \n",
    "gamestatusdeafault = {\n",
    "    \"current_room\": roomsname[0][0],\n",
    "    \"items_collected\": [],\n",
    "    \"target_room\": \"Isengard\",\n",
    "    \"open_doors\": []}\n",
    "\n"
   ]
  },
  {
   "cell_type": "code",
   "execution_count": 1,
   "id": "ccf3cf4d",
   "metadata": {
    "ExecuteTime": {
     "end_time": "2022-08-14T19:42:21.370395Z",
     "start_time": "2022-08-14T19:42:21.359419Z"
    }
   },
   "outputs": [],
   "source": [
    "#starts games in first room\n",
    "def start():\n",
    "    import copy\n",
    "\n",
    "    print (\"You have just arrived in Rivendell. Your companions are in their respective rooms. What do you do? \")\n",
    "    gamestatus = copy.deepcopy(gamestatusdeafault)\n",
    "    plays(gamestatus)"
   ]
  },
  {
   "cell_type": "code",
   "execution_count": 2,
   "id": "a3a980fc",
   "metadata": {
    "ExecuteTime": {
     "end_time": "2022-08-14T19:42:23.103172Z",
     "start_time": "2022-08-14T19:42:23.097188Z"
    }
   },
   "outputs": [],
   "source": [
    "class Room:\n",
    "    name: str\n",
    "    north: 'Room'\n",
    "    east: 'Room'\n",
    "    south: 'Room'\n",
    "    west: 'Room'\n",
    "\n",
    "    def __init__(self, name, north=None, east=None, south=None, west=None):\n",
    "        self.name = name\n",
    "        self.north = north\n",
    "        self.east = east\n",
    "        self.west = west\n",
    "        self.south = south\n",
    "\n",
    "        if north:\n",
    "            north.south = self\n",
    "        if east:\n",
    "            east.west = self\n",
    "        if south:\n",
    "            south.north = self\n",
    "        if west:\n",
    "            west.east = self\n",
    "\n",
    "    def go_to(self, direction):\n",
    "        if direction in ['north','east','south','west']:\n",
    "            return getattr(self, direction) \n",
    "        else:\n",
    "            return None\n",
    "\n",
    "    def __str__(self):\n",
    "        return self.name"
   ]
  },
  {
   "cell_type": "code",
   "execution_count": 3,
   "id": "6d550664",
   "metadata": {
    "ExecuteTime": {
     "end_time": "2022-08-14T19:42:25.541510Z",
     "start_time": "2022-08-14T19:42:25.531129Z"
    }
   },
   "outputs": [],
   "source": [
    "class Map:\n",
    "    current_room: Room\n",
    "    rooms: list[Room]  # at the moment is not used but could be in the future?\n",
    "\n",
    "    def __init__(self, current_room: Room, rooms: list[Room]):\n",
    "        self.current_room = current_room\n",
    "        self.rooms = rooms\n",
    "\n",
    "    def go_to(self, direction):\n",
    "        if next_room := self.current_room.go_to(direction):\n",
    "            self.current_room = next_room\n",
    "        return next_room"
   ]
  },
  {
   "cell_type": "code",
   "execution_count": 4,
   "id": "60584cb1",
   "metadata": {
    "ExecuteTime": {
     "end_time": "2022-08-14T19:42:28.531859Z",
     "start_time": "2022-08-14T19:42:28.517879Z"
    }
   },
   "outputs": [],
   "source": [
    "map_rooms = [Aragorn := Room(\"Aragorn's room\"),Legolas := Room(\"Legolas' room\"),Gimli := Room(\"Gimli's room\"),\n",
    "               Isengard := Room('Isengard'),\n",
    "               great_hall := Room('Rivendell', south=Isengard, north=Aragorn, west=Legolas, east=Gimli)]\n",
    "\n",
    "Map = Map(current_room=great_hall, rooms=map_rooms)"
   ]
  },
  {
   "cell_type": "code",
   "execution_count": null,
   "id": "6c87aed6",
   "metadata": {
    "ExecuteTime": {
     "start_time": "2022-08-14T19:42:31.559Z"
    }
   },
   "outputs": [
    {
     "name": "stdout",
     "output_type": "stream",
     "text": [
      "\n",
      "You are in Rivendell\n",
      "\n",
      "What direction do you want to go? south\n",
      "\n",
      "You are in Isengard\n",
      "\n",
      "What direction do you want to go? north\n",
      "\n",
      "You are in Rivendell\n",
      "\n",
      "What direction do you want to go? north\n",
      "\n",
      "You are in Aragorn's room\n",
      "\n",
      "What direction do you want to go? south\n",
      "\n",
      "You are in Rivendell\n",
      "\n",
      "What direction do you want to go? west\n",
      "\n",
      "You are in Legolas' room\n",
      "\n",
      "What direction do you want to go? east\n",
      "\n",
      "You are in Rivendell\n",
      "\n",
      "What direction do you want to go? east\n",
      "\n",
      "You are in Gimli's room\n",
      "\n",
      "What direction do you want to go? west\n",
      "\n",
      "You are in Rivendell\n"
     ]
    }
   ],
   "source": [
    "commands = {\n",
    "    \"directions\": ['north', 'south', 'east', 'west'],\n",
    "    \"quit\": ['q', 'quit']\n",
    "}\n",
    "\n",
    "def game_loop():\n",
    "    print(f\"\\nYou are in {Map.current_room}\")\n",
    "    command = input('\\nWhat direction do you want to go? ').lower()\n",
    "    if command in commands[\"directions\"]:\n",
    "        if not Map.go_to(command):\n",
    "            print(\"You can't go that way.\")\n",
    "    elif command in commands[\"quit\"]:\n",
    "        return False\n",
    "    else:\n",
    "        print(\"I don't understand that command.\")\n",
    "    return True\n",
    "\n",
    "\n",
    "if __name__ == '__main__':\n",
    "    while game_loop():\n",
    "        pass"
   ]
  }
 ],
 "metadata": {
  "kernelspec": {
   "display_name": "Python 3 (ipykernel)",
   "language": "python",
   "name": "python3"
  },
  "language_info": {
   "codemirror_mode": {
    "name": "ipython",
    "version": 3
   },
   "file_extension": ".py",
   "mimetype": "text/x-python",
   "name": "python",
   "nbconvert_exporter": "python",
   "pygments_lexer": "ipython3",
   "version": "3.9.12"
  },
  "toc": {
   "base_numbering": 1,
   "nav_menu": {},
   "number_sections": true,
   "sideBar": true,
   "skip_h1_title": false,
   "title_cell": "Table of Contents",
   "title_sidebar": "Contents",
   "toc_cell": false,
   "toc_position": {},
   "toc_section_display": true,
   "toc_window_display": false
  },
  "varInspector": {
   "cols": {
    "lenName": 16,
    "lenType": 16,
    "lenVar": 40
   },
   "kernels_config": {
    "python": {
     "delete_cmd_postfix": "",
     "delete_cmd_prefix": "del ",
     "library": "var_list.py",
     "varRefreshCmd": "print(var_dic_list())"
    },
    "r": {
     "delete_cmd_postfix": ") ",
     "delete_cmd_prefix": "rm(",
     "library": "var_list.r",
     "varRefreshCmd": "cat(var_dic_list()) "
    }
   },
   "types_to_exclude": [
    "module",
    "function",
    "builtin_function_or_method",
    "instance",
    "_Feature"
   ],
   "window_display": false
  }
 },
 "nbformat": 4,
 "nbformat_minor": 5
}
